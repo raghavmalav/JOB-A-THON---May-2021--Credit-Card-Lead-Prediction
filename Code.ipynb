{
 "cells": [
  {
   "cell_type": "code",
   "execution_count": 1,
   "metadata": {},
   "outputs": [],
   "source": [
    "import pandas as pd\n",
    "import numpy as np\n",
    "import seaborn as sns\n",
    "import matplotlib.pyplot as plt\n",
    "%matplotlib inline"
   ]
  },
  {
   "cell_type": "markdown",
   "metadata": {},
   "source": [
    "*importing training data"
   ]
  },
  {
   "cell_type": "code",
   "execution_count": 2,
   "metadata": {},
   "outputs": [],
   "source": [
    "df = pd.read_csv('train_s3TEQDk.csv')"
   ]
  },
  {
   "cell_type": "code",
   "execution_count": 3,
   "metadata": {},
   "outputs": [
    {
     "data": {
      "text/html": [
       "<div>\n",
       "<style scoped>\n",
       "    .dataframe tbody tr th:only-of-type {\n",
       "        vertical-align: middle;\n",
       "    }\n",
       "\n",
       "    .dataframe tbody tr th {\n",
       "        vertical-align: top;\n",
       "    }\n",
       "\n",
       "    .dataframe thead th {\n",
       "        text-align: right;\n",
       "    }\n",
       "</style>\n",
       "<table border=\"1\" class=\"dataframe\">\n",
       "  <thead>\n",
       "    <tr style=\"text-align: right;\">\n",
       "      <th></th>\n",
       "      <th>ID</th>\n",
       "      <th>Gender</th>\n",
       "      <th>Age</th>\n",
       "      <th>Region_Code</th>\n",
       "      <th>Occupation</th>\n",
       "      <th>Channel_Code</th>\n",
       "      <th>Vintage</th>\n",
       "      <th>Credit_Product</th>\n",
       "      <th>Avg_Account_Balance</th>\n",
       "      <th>Is_Active</th>\n",
       "      <th>Is_Lead</th>\n",
       "    </tr>\n",
       "  </thead>\n",
       "  <tbody>\n",
       "    <tr>\n",
       "      <th>0</th>\n",
       "      <td>NNVBBKZB</td>\n",
       "      <td>Female</td>\n",
       "      <td>73</td>\n",
       "      <td>RG268</td>\n",
       "      <td>Other</td>\n",
       "      <td>X3</td>\n",
       "      <td>43</td>\n",
       "      <td>No</td>\n",
       "      <td>1045696</td>\n",
       "      <td>No</td>\n",
       "      <td>0</td>\n",
       "    </tr>\n",
       "    <tr>\n",
       "      <th>1</th>\n",
       "      <td>IDD62UNG</td>\n",
       "      <td>Female</td>\n",
       "      <td>30</td>\n",
       "      <td>RG277</td>\n",
       "      <td>Salaried</td>\n",
       "      <td>X1</td>\n",
       "      <td>32</td>\n",
       "      <td>No</td>\n",
       "      <td>581988</td>\n",
       "      <td>No</td>\n",
       "      <td>0</td>\n",
       "    </tr>\n",
       "    <tr>\n",
       "      <th>2</th>\n",
       "      <td>HD3DSEMC</td>\n",
       "      <td>Female</td>\n",
       "      <td>56</td>\n",
       "      <td>RG268</td>\n",
       "      <td>Self_Employed</td>\n",
       "      <td>X3</td>\n",
       "      <td>26</td>\n",
       "      <td>No</td>\n",
       "      <td>1484315</td>\n",
       "      <td>Yes</td>\n",
       "      <td>0</td>\n",
       "    </tr>\n",
       "    <tr>\n",
       "      <th>3</th>\n",
       "      <td>BF3NC7KV</td>\n",
       "      <td>Male</td>\n",
       "      <td>34</td>\n",
       "      <td>RG270</td>\n",
       "      <td>Salaried</td>\n",
       "      <td>X1</td>\n",
       "      <td>19</td>\n",
       "      <td>No</td>\n",
       "      <td>470454</td>\n",
       "      <td>No</td>\n",
       "      <td>0</td>\n",
       "    </tr>\n",
       "    <tr>\n",
       "      <th>4</th>\n",
       "      <td>TEASRWXV</td>\n",
       "      <td>Female</td>\n",
       "      <td>30</td>\n",
       "      <td>RG282</td>\n",
       "      <td>Salaried</td>\n",
       "      <td>X1</td>\n",
       "      <td>33</td>\n",
       "      <td>No</td>\n",
       "      <td>886787</td>\n",
       "      <td>No</td>\n",
       "      <td>0</td>\n",
       "    </tr>\n",
       "  </tbody>\n",
       "</table>\n",
       "</div>"
      ],
      "text/plain": [
       "         ID  Gender  Age Region_Code     Occupation Channel_Code  Vintage  \\\n",
       "0  NNVBBKZB  Female   73       RG268          Other           X3       43   \n",
       "1  IDD62UNG  Female   30       RG277       Salaried           X1       32   \n",
       "2  HD3DSEMC  Female   56       RG268  Self_Employed           X3       26   \n",
       "3  BF3NC7KV    Male   34       RG270       Salaried           X1       19   \n",
       "4  TEASRWXV  Female   30       RG282       Salaried           X1       33   \n",
       "\n",
       "  Credit_Product  Avg_Account_Balance Is_Active  Is_Lead  \n",
       "0             No              1045696        No        0  \n",
       "1             No               581988        No        0  \n",
       "2             No              1484315       Yes        0  \n",
       "3             No               470454        No        0  \n",
       "4             No               886787        No        0  "
      ]
     },
     "execution_count": 3,
     "metadata": {},
     "output_type": "execute_result"
    }
   ],
   "source": [
    "df.head()"
   ]
  },
  {
   "cell_type": "code",
   "execution_count": 4,
   "metadata": {},
   "outputs": [
    {
     "data": {
      "text/plain": [
       "(245725, 11)"
      ]
     },
     "execution_count": 4,
     "metadata": {},
     "output_type": "execute_result"
    }
   ],
   "source": [
    "df.shape"
   ]
  },
  {
   "cell_type": "code",
   "execution_count": 5,
   "metadata": {},
   "outputs": [
    {
     "name": "stdout",
     "output_type": "stream",
     "text": [
      "<class 'pandas.core.frame.DataFrame'>\n",
      "RangeIndex: 245725 entries, 0 to 245724\n",
      "Data columns (total 11 columns):\n",
      " #   Column               Non-Null Count   Dtype \n",
      "---  ------               --------------   ----- \n",
      " 0   ID                   245725 non-null  object\n",
      " 1   Gender               245725 non-null  object\n",
      " 2   Age                  245725 non-null  int64 \n",
      " 3   Region_Code          245725 non-null  object\n",
      " 4   Occupation           245725 non-null  object\n",
      " 5   Channel_Code         245725 non-null  object\n",
      " 6   Vintage              245725 non-null  int64 \n",
      " 7   Credit_Product       216400 non-null  object\n",
      " 8   Avg_Account_Balance  245725 non-null  int64 \n",
      " 9   Is_Active            245725 non-null  object\n",
      " 10  Is_Lead              245725 non-null  int64 \n",
      "dtypes: int64(4), object(7)\n",
      "memory usage: 20.6+ MB\n"
     ]
    }
   ],
   "source": [
    "df.info()"
   ]
  },
  {
   "cell_type": "markdown",
   "metadata": {},
   "source": [
    "*By above code we got to know Credit_Product has Null values"
   ]
  },
  {
   "cell_type": "code",
   "execution_count": 6,
   "metadata": {},
   "outputs": [],
   "source": [
    "unique_list = ['Gender','Region_Code','Occupation','Channel_Code','Credit_Product','Is_Active','Is_Lead']"
   ]
  },
  {
   "cell_type": "markdown",
   "metadata": {},
   "source": [
    "*Checking unique entries "
   ]
  },
  {
   "cell_type": "code",
   "execution_count": 7,
   "metadata": {},
   "outputs": [
    {
     "name": "stdout",
     "output_type": "stream",
     "text": [
      "['Female' 'Male']\n",
      "['RG268' 'RG277' 'RG270' 'RG282' 'RG261' 'RG265' 'RG283' 'RG254' 'RG269'\n",
      " 'RG257' 'RG279' 'RG280' 'RG252' 'RG284' 'RG259' 'RG281' 'RG258' 'RG266'\n",
      " 'RG260' 'RG274' 'RG256' 'RG275' 'RG273' 'RG267' 'RG272' 'RG251' 'RG262'\n",
      " 'RG264' 'RG278' 'RG276' 'RG263' 'RG250' 'RG255' 'RG253' 'RG271']\n",
      "['Other' 'Salaried' 'Self_Employed' 'Entrepreneur']\n",
      "['X3' 'X1' 'X2' 'X4']\n",
      "['No' nan 'Yes']\n",
      "['No' 'Yes']\n",
      "[0 1]\n"
     ]
    }
   ],
   "source": [
    "for item in unique_list:\n",
    "    print(df[item].unique())"
   ]
  },
  {
   "cell_type": "code",
   "execution_count": 8,
   "metadata": {},
   "outputs": [
    {
     "data": {
      "text/plain": [
       "29325"
      ]
     },
     "execution_count": 8,
     "metadata": {},
     "output_type": "execute_result"
    }
   ],
   "source": [
    "df['Credit_Product'].isna().sum()"
   ]
  },
  {
   "cell_type": "code",
   "execution_count": 9,
   "metadata": {},
   "outputs": [
    {
     "data": {
      "text/plain": [
       "No     144357\n",
       "Yes     72043\n",
       "Name: Credit_Product, dtype: int64"
      ]
     },
     "execution_count": 9,
     "metadata": {},
     "output_type": "execute_result"
    }
   ],
   "source": [
    "df['Credit_Product'].value_counts()"
   ]
  },
  {
   "cell_type": "code",
   "execution_count": 10,
   "metadata": {},
   "outputs": [],
   "source": [
    "df['Credit_Product'].fillna(method='bfill',inplace=True)"
   ]
  },
  {
   "cell_type": "markdown",
   "metadata": {},
   "source": [
    "*Null values imputation using backward fill method"
   ]
  },
  {
   "cell_type": "code",
   "execution_count": 11,
   "metadata": {},
   "outputs": [
    {
     "data": {
      "text/plain": [
       "No     163920\n",
       "Yes     81805\n",
       "Name: Credit_Product, dtype: int64"
      ]
     },
     "execution_count": 11,
     "metadata": {},
     "output_type": "execute_result"
    }
   ],
   "source": [
    "df['Credit_Product'].value_counts()"
   ]
  },
  {
   "cell_type": "code",
   "execution_count": 12,
   "metadata": {},
   "outputs": [
    {
     "data": {
      "text/plain": [
       "ID                     0\n",
       "Gender                 0\n",
       "Age                    0\n",
       "Region_Code            0\n",
       "Occupation             0\n",
       "Channel_Code           0\n",
       "Vintage                0\n",
       "Credit_Product         0\n",
       "Avg_Account_Balance    0\n",
       "Is_Active              0\n",
       "Is_Lead                0\n",
       "dtype: int64"
      ]
     },
     "execution_count": 12,
     "metadata": {},
     "output_type": "execute_result"
    }
   ],
   "source": [
    "df.isna().sum()"
   ]
  },
  {
   "cell_type": "code",
   "execution_count": 13,
   "metadata": {},
   "outputs": [
    {
     "data": {
      "text/plain": [
       "0"
      ]
     },
     "execution_count": 13,
     "metadata": {},
     "output_type": "execute_result"
    }
   ],
   "source": [
    "df.duplicated().sum()"
   ]
  },
  {
   "cell_type": "code",
   "execution_count": 14,
   "metadata": {},
   "outputs": [
    {
     "data": {
      "text/html": [
       "<div>\n",
       "<style scoped>\n",
       "    .dataframe tbody tr th:only-of-type {\n",
       "        vertical-align: middle;\n",
       "    }\n",
       "\n",
       "    .dataframe tbody tr th {\n",
       "        vertical-align: top;\n",
       "    }\n",
       "\n",
       "    .dataframe thead th {\n",
       "        text-align: right;\n",
       "    }\n",
       "</style>\n",
       "<table border=\"1\" class=\"dataframe\">\n",
       "  <thead>\n",
       "    <tr style=\"text-align: right;\">\n",
       "      <th></th>\n",
       "      <th>Gender</th>\n",
       "      <th>Age</th>\n",
       "      <th>Region_Code</th>\n",
       "      <th>Occupation</th>\n",
       "      <th>Channel_Code</th>\n",
       "      <th>Vintage</th>\n",
       "      <th>Credit_Product</th>\n",
       "      <th>Avg_Account_Balance</th>\n",
       "      <th>Is_Active</th>\n",
       "      <th>Is_Lead</th>\n",
       "    </tr>\n",
       "    <tr>\n",
       "      <th>ID</th>\n",
       "      <th></th>\n",
       "      <th></th>\n",
       "      <th></th>\n",
       "      <th></th>\n",
       "      <th></th>\n",
       "      <th></th>\n",
       "      <th></th>\n",
       "      <th></th>\n",
       "      <th></th>\n",
       "      <th></th>\n",
       "    </tr>\n",
       "  </thead>\n",
       "  <tbody>\n",
       "    <tr>\n",
       "      <th>NNVBBKZB</th>\n",
       "      <td>Female</td>\n",
       "      <td>73</td>\n",
       "      <td>RG268</td>\n",
       "      <td>Other</td>\n",
       "      <td>X3</td>\n",
       "      <td>43</td>\n",
       "      <td>No</td>\n",
       "      <td>1045696</td>\n",
       "      <td>No</td>\n",
       "      <td>0</td>\n",
       "    </tr>\n",
       "    <tr>\n",
       "      <th>IDD62UNG</th>\n",
       "      <td>Female</td>\n",
       "      <td>30</td>\n",
       "      <td>RG277</td>\n",
       "      <td>Salaried</td>\n",
       "      <td>X1</td>\n",
       "      <td>32</td>\n",
       "      <td>No</td>\n",
       "      <td>581988</td>\n",
       "      <td>No</td>\n",
       "      <td>0</td>\n",
       "    </tr>\n",
       "    <tr>\n",
       "      <th>HD3DSEMC</th>\n",
       "      <td>Female</td>\n",
       "      <td>56</td>\n",
       "      <td>RG268</td>\n",
       "      <td>Self_Employed</td>\n",
       "      <td>X3</td>\n",
       "      <td>26</td>\n",
       "      <td>No</td>\n",
       "      <td>1484315</td>\n",
       "      <td>Yes</td>\n",
       "      <td>0</td>\n",
       "    </tr>\n",
       "    <tr>\n",
       "      <th>BF3NC7KV</th>\n",
       "      <td>Male</td>\n",
       "      <td>34</td>\n",
       "      <td>RG270</td>\n",
       "      <td>Salaried</td>\n",
       "      <td>X1</td>\n",
       "      <td>19</td>\n",
       "      <td>No</td>\n",
       "      <td>470454</td>\n",
       "      <td>No</td>\n",
       "      <td>0</td>\n",
       "    </tr>\n",
       "    <tr>\n",
       "      <th>TEASRWXV</th>\n",
       "      <td>Female</td>\n",
       "      <td>30</td>\n",
       "      <td>RG282</td>\n",
       "      <td>Salaried</td>\n",
       "      <td>X1</td>\n",
       "      <td>33</td>\n",
       "      <td>No</td>\n",
       "      <td>886787</td>\n",
       "      <td>No</td>\n",
       "      <td>0</td>\n",
       "    </tr>\n",
       "  </tbody>\n",
       "</table>\n",
       "</div>"
      ],
      "text/plain": [
       "          Gender  Age Region_Code     Occupation Channel_Code  Vintage  \\\n",
       "ID                                                                       \n",
       "NNVBBKZB  Female   73       RG268          Other           X3       43   \n",
       "IDD62UNG  Female   30       RG277       Salaried           X1       32   \n",
       "HD3DSEMC  Female   56       RG268  Self_Employed           X3       26   \n",
       "BF3NC7KV    Male   34       RG270       Salaried           X1       19   \n",
       "TEASRWXV  Female   30       RG282       Salaried           X1       33   \n",
       "\n",
       "         Credit_Product  Avg_Account_Balance Is_Active  Is_Lead  \n",
       "ID                                                               \n",
       "NNVBBKZB             No              1045696        No        0  \n",
       "IDD62UNG             No               581988        No        0  \n",
       "HD3DSEMC             No              1484315       Yes        0  \n",
       "BF3NC7KV             No               470454        No        0  \n",
       "TEASRWXV             No               886787        No        0  "
      ]
     },
     "execution_count": 14,
     "metadata": {},
     "output_type": "execute_result"
    }
   ],
   "source": [
    "df_new = df.set_index('ID')\n",
    "df_new.head()"
   ]
  },
  {
   "cell_type": "markdown",
   "metadata": {},
   "source": [
    "*set iD as index of dataframe df_new. Now we will perform Label Encoding on Categorical Variables"
   ]
  },
  {
   "cell_type": "code",
   "execution_count": 15,
   "metadata": {},
   "outputs": [],
   "source": [
    "from sklearn.preprocessing import LabelEncoder\n",
    "le = LabelEncoder()\n",
    "cat_list = ['Gender','Region_Code','Occupation','Channel_Code','Credit_Product','Is_Active']\n",
    "for i in cat_list:\n",
    "    df_new[i] = le.fit_transform(df_new[i])"
   ]
  },
  {
   "cell_type": "code",
   "execution_count": 16,
   "metadata": {},
   "outputs": [
    {
     "data": {
      "text/html": [
       "<div>\n",
       "<style scoped>\n",
       "    .dataframe tbody tr th:only-of-type {\n",
       "        vertical-align: middle;\n",
       "    }\n",
       "\n",
       "    .dataframe tbody tr th {\n",
       "        vertical-align: top;\n",
       "    }\n",
       "\n",
       "    .dataframe thead th {\n",
       "        text-align: right;\n",
       "    }\n",
       "</style>\n",
       "<table border=\"1\" class=\"dataframe\">\n",
       "  <thead>\n",
       "    <tr style=\"text-align: right;\">\n",
       "      <th></th>\n",
       "      <th>Gender</th>\n",
       "      <th>Age</th>\n",
       "      <th>Region_Code</th>\n",
       "      <th>Occupation</th>\n",
       "      <th>Channel_Code</th>\n",
       "      <th>Vintage</th>\n",
       "      <th>Credit_Product</th>\n",
       "      <th>Avg_Account_Balance</th>\n",
       "      <th>Is_Active</th>\n",
       "      <th>Is_Lead</th>\n",
       "    </tr>\n",
       "    <tr>\n",
       "      <th>ID</th>\n",
       "      <th></th>\n",
       "      <th></th>\n",
       "      <th></th>\n",
       "      <th></th>\n",
       "      <th></th>\n",
       "      <th></th>\n",
       "      <th></th>\n",
       "      <th></th>\n",
       "      <th></th>\n",
       "      <th></th>\n",
       "    </tr>\n",
       "  </thead>\n",
       "  <tbody>\n",
       "    <tr>\n",
       "      <th>NNVBBKZB</th>\n",
       "      <td>0</td>\n",
       "      <td>73</td>\n",
       "      <td>18</td>\n",
       "      <td>1</td>\n",
       "      <td>2</td>\n",
       "      <td>43</td>\n",
       "      <td>0</td>\n",
       "      <td>1045696</td>\n",
       "      <td>0</td>\n",
       "      <td>0</td>\n",
       "    </tr>\n",
       "    <tr>\n",
       "      <th>IDD62UNG</th>\n",
       "      <td>0</td>\n",
       "      <td>30</td>\n",
       "      <td>27</td>\n",
       "      <td>2</td>\n",
       "      <td>0</td>\n",
       "      <td>32</td>\n",
       "      <td>0</td>\n",
       "      <td>581988</td>\n",
       "      <td>0</td>\n",
       "      <td>0</td>\n",
       "    </tr>\n",
       "    <tr>\n",
       "      <th>HD3DSEMC</th>\n",
       "      <td>0</td>\n",
       "      <td>56</td>\n",
       "      <td>18</td>\n",
       "      <td>3</td>\n",
       "      <td>2</td>\n",
       "      <td>26</td>\n",
       "      <td>0</td>\n",
       "      <td>1484315</td>\n",
       "      <td>1</td>\n",
       "      <td>0</td>\n",
       "    </tr>\n",
       "    <tr>\n",
       "      <th>BF3NC7KV</th>\n",
       "      <td>1</td>\n",
       "      <td>34</td>\n",
       "      <td>20</td>\n",
       "      <td>2</td>\n",
       "      <td>0</td>\n",
       "      <td>19</td>\n",
       "      <td>0</td>\n",
       "      <td>470454</td>\n",
       "      <td>0</td>\n",
       "      <td>0</td>\n",
       "    </tr>\n",
       "    <tr>\n",
       "      <th>TEASRWXV</th>\n",
       "      <td>0</td>\n",
       "      <td>30</td>\n",
       "      <td>32</td>\n",
       "      <td>2</td>\n",
       "      <td>0</td>\n",
       "      <td>33</td>\n",
       "      <td>0</td>\n",
       "      <td>886787</td>\n",
       "      <td>0</td>\n",
       "      <td>0</td>\n",
       "    </tr>\n",
       "  </tbody>\n",
       "</table>\n",
       "</div>"
      ],
      "text/plain": [
       "          Gender  Age  Region_Code  Occupation  Channel_Code  Vintage  \\\n",
       "ID                                                                      \n",
       "NNVBBKZB       0   73           18           1             2       43   \n",
       "IDD62UNG       0   30           27           2             0       32   \n",
       "HD3DSEMC       0   56           18           3             2       26   \n",
       "BF3NC7KV       1   34           20           2             0       19   \n",
       "TEASRWXV       0   30           32           2             0       33   \n",
       "\n",
       "          Credit_Product  Avg_Account_Balance  Is_Active  Is_Lead  \n",
       "ID                                                                 \n",
       "NNVBBKZB               0              1045696          0        0  \n",
       "IDD62UNG               0               581988          0        0  \n",
       "HD3DSEMC               0              1484315          1        0  \n",
       "BF3NC7KV               0               470454          0        0  \n",
       "TEASRWXV               0               886787          0        0  "
      ]
     },
     "execution_count": 16,
     "metadata": {},
     "output_type": "execute_result"
    }
   ],
   "source": [
    "df_new.head()"
   ]
  },
  {
   "cell_type": "code",
   "execution_count": 17,
   "metadata": {},
   "outputs": [
    {
     "data": {
      "text/plain": [
       "0    187437\n",
       "1     58288\n",
       "Name: Is_Lead, dtype: int64"
      ]
     },
     "execution_count": 17,
     "metadata": {},
     "output_type": "execute_result"
    }
   ],
   "source": [
    "df_new['Is_Lead'].value_counts()"
   ]
  },
  {
   "cell_type": "markdown",
   "metadata": {},
   "source": [
    "*By applying value_counts on target variable wee got to know that training dataset is imbalanced.\n",
    "So we will balance it."
   ]
  },
  {
   "cell_type": "code",
   "execution_count": 18,
   "metadata": {},
   "outputs": [
    {
     "data": {
      "text/plain": [
       "1    58288\n",
       "0    40000\n",
       "Name: Is_Lead, dtype: int64"
      ]
     },
     "execution_count": 18,
     "metadata": {},
     "output_type": "execute_result"
    }
   ],
   "source": [
    "frames = [df_new[df_new['Is_Lead'] == 0].iloc[:40000, :], df_new[df_new['Is_Lead'] == 1]]\n",
    "frames = pd.concat(frames)\n",
    "frames['Is_Lead'].value_counts()"
   ]
  },
  {
   "cell_type": "code",
   "execution_count": 19,
   "metadata": {},
   "outputs": [],
   "source": [
    "xf = frames.drop('Is_Lead',axis=1)\n",
    "yf = frames['Is_Lead']"
   ]
  },
  {
   "cell_type": "code",
   "execution_count": 20,
   "metadata": {},
   "outputs": [],
   "source": [
    "from sklearn.model_selection import train_test_split\n",
    "xf_train,xf_test,yf_train,yf_test = train_test_split(xf,yf,test_size = 0.25,random_state = 12)"
   ]
  },
  {
   "cell_type": "code",
   "execution_count": 21,
   "metadata": {},
   "outputs": [],
   "source": [
    "from sklearn.linear_model import LogisticRegression\n",
    "from sklearn.metrics import accuracy_score,roc_auc_score\n",
    "log = LogisticRegression()\n",
    "log.fit(xf_train,yf_train)\n",
    "lr_pred = log.predict(xf_test)"
   ]
  },
  {
   "cell_type": "code",
   "execution_count": 22,
   "metadata": {},
   "outputs": [
    {
     "name": "stdout",
     "output_type": "stream",
     "text": [
      "0.5941315318248412\n",
      "0.5439064680954497\n"
     ]
    }
   ],
   "source": [
    "print(accuracy_score(yf_test,lr_pred))\n",
    "print(roc_auc_score(yf_test,lr_pred))"
   ]
  },
  {
   "cell_type": "code",
   "execution_count": 44,
   "metadata": {},
   "outputs": [],
   "source": [
    "import xgboost as xgb\n",
    "from xgboost.sklearn import XGBClassifier\n",
    "xgb_clf = XGBClassifier(colsample_bytree = 0.8, gamma = 5, max_depth = 5, min_child_weight = 10, subsample = 1.0)\n",
    "xgb_clf.fit(xf_train,yf_train)\n",
    "xgb_pred = xgb_clf.predict_proba(xf_test)[:,1]"
   ]
  },
  {
   "cell_type": "code",
   "execution_count": 45,
   "metadata": {},
   "outputs": [
    {
     "name": "stdout",
     "output_type": "stream",
     "text": [
      "0.7938864218790371\n"
     ]
    }
   ],
   "source": [
    "'''print(accuracy_score(yf_test,xgb_pred))'''\n",
    "print(roc_auc_score(yf_test,xgb_pred))"
   ]
  },
  {
   "cell_type": "code",
   "execution_count": 25,
   "metadata": {},
   "outputs": [],
   "source": [
    "from sklearn.ensemble import RandomForestClassifier\n",
    "rf = RandomForestClassifier()\n",
    "rf.fit(xf_train,yf_train)\n",
    "rf_pred = rf.predict(xf_test)"
   ]
  },
  {
   "cell_type": "code",
   "execution_count": 26,
   "metadata": {},
   "outputs": [
    {
     "name": "stdout",
     "output_type": "stream",
     "text": [
      "0.7151636008464919\n",
      "0.698239852861285\n"
     ]
    }
   ],
   "source": [
    "print(accuracy_score(yf_test,rf_pred))\n",
    "print(roc_auc_score(yf_test,rf_pred))"
   ]
  },
  {
   "cell_type": "code",
   "execution_count": 27,
   "metadata": {},
   "outputs": [
    {
     "data": {
      "text/html": [
       "<div>\n",
       "<style scoped>\n",
       "    .dataframe tbody tr th:only-of-type {\n",
       "        vertical-align: middle;\n",
       "    }\n",
       "\n",
       "    .dataframe tbody tr th {\n",
       "        vertical-align: top;\n",
       "    }\n",
       "\n",
       "    .dataframe thead th {\n",
       "        text-align: right;\n",
       "    }\n",
       "</style>\n",
       "<table border=\"1\" class=\"dataframe\">\n",
       "  <thead>\n",
       "    <tr style=\"text-align: right;\">\n",
       "      <th></th>\n",
       "      <th>Gender</th>\n",
       "      <th>Age</th>\n",
       "      <th>Region_Code</th>\n",
       "      <th>Occupation</th>\n",
       "      <th>Channel_Code</th>\n",
       "      <th>Vintage</th>\n",
       "      <th>Credit_Product</th>\n",
       "      <th>Avg_Account_Balance</th>\n",
       "      <th>Is_Active</th>\n",
       "    </tr>\n",
       "    <tr>\n",
       "      <th>ID</th>\n",
       "      <th></th>\n",
       "      <th></th>\n",
       "      <th></th>\n",
       "      <th></th>\n",
       "      <th></th>\n",
       "      <th></th>\n",
       "      <th></th>\n",
       "      <th></th>\n",
       "      <th></th>\n",
       "    </tr>\n",
       "  </thead>\n",
       "  <tbody>\n",
       "    <tr>\n",
       "      <th>VBENBARO</th>\n",
       "      <td>Male</td>\n",
       "      <td>29</td>\n",
       "      <td>RG254</td>\n",
       "      <td>Other</td>\n",
       "      <td>X1</td>\n",
       "      <td>25</td>\n",
       "      <td>Yes</td>\n",
       "      <td>742366</td>\n",
       "      <td>No</td>\n",
       "    </tr>\n",
       "    <tr>\n",
       "      <th>CCMEWNKY</th>\n",
       "      <td>Male</td>\n",
       "      <td>43</td>\n",
       "      <td>RG268</td>\n",
       "      <td>Other</td>\n",
       "      <td>X2</td>\n",
       "      <td>49</td>\n",
       "      <td>NaN</td>\n",
       "      <td>925537</td>\n",
       "      <td>No</td>\n",
       "    </tr>\n",
       "    <tr>\n",
       "      <th>VK3KGA9M</th>\n",
       "      <td>Male</td>\n",
       "      <td>31</td>\n",
       "      <td>RG270</td>\n",
       "      <td>Salaried</td>\n",
       "      <td>X1</td>\n",
       "      <td>14</td>\n",
       "      <td>No</td>\n",
       "      <td>215949</td>\n",
       "      <td>No</td>\n",
       "    </tr>\n",
       "    <tr>\n",
       "      <th>TT8RPZVC</th>\n",
       "      <td>Male</td>\n",
       "      <td>29</td>\n",
       "      <td>RG272</td>\n",
       "      <td>Other</td>\n",
       "      <td>X1</td>\n",
       "      <td>33</td>\n",
       "      <td>No</td>\n",
       "      <td>868070</td>\n",
       "      <td>No</td>\n",
       "    </tr>\n",
       "    <tr>\n",
       "      <th>SHQZEYTZ</th>\n",
       "      <td>Female</td>\n",
       "      <td>29</td>\n",
       "      <td>RG270</td>\n",
       "      <td>Other</td>\n",
       "      <td>X1</td>\n",
       "      <td>19</td>\n",
       "      <td>No</td>\n",
       "      <td>657087</td>\n",
       "      <td>No</td>\n",
       "    </tr>\n",
       "  </tbody>\n",
       "</table>\n",
       "</div>"
      ],
      "text/plain": [
       "          Gender  Age Region_Code Occupation Channel_Code  Vintage  \\\n",
       "ID                                                                   \n",
       "VBENBARO    Male   29       RG254      Other           X1       25   \n",
       "CCMEWNKY    Male   43       RG268      Other           X2       49   \n",
       "VK3KGA9M    Male   31       RG270   Salaried           X1       14   \n",
       "TT8RPZVC    Male   29       RG272      Other           X1       33   \n",
       "SHQZEYTZ  Female   29       RG270      Other           X1       19   \n",
       "\n",
       "         Credit_Product  Avg_Account_Balance Is_Active  \n",
       "ID                                                      \n",
       "VBENBARO            Yes               742366        No  \n",
       "CCMEWNKY            NaN               925537        No  \n",
       "VK3KGA9M             No               215949        No  \n",
       "TT8RPZVC             No               868070        No  \n",
       "SHQZEYTZ             No               657087        No  "
      ]
     },
     "execution_count": 27,
     "metadata": {},
     "output_type": "execute_result"
    }
   ],
   "source": [
    "df_test = pd.read_csv('test_mSzZ8RL.csv')\n",
    "df_test = df_test.set_index('ID')\n",
    "df_test.head()"
   ]
  },
  {
   "cell_type": "code",
   "execution_count": 28,
   "metadata": {},
   "outputs": [
    {
     "name": "stdout",
     "output_type": "stream",
     "text": [
      "<class 'pandas.core.frame.DataFrame'>\n",
      "Index: 105312 entries, VBENBARO to F2NOYPPZ\n",
      "Data columns (total 9 columns):\n",
      " #   Column               Non-Null Count   Dtype \n",
      "---  ------               --------------   ----- \n",
      " 0   Gender               105312 non-null  object\n",
      " 1   Age                  105312 non-null  int64 \n",
      " 2   Region_Code          105312 non-null  object\n",
      " 3   Occupation           105312 non-null  object\n",
      " 4   Channel_Code         105312 non-null  object\n",
      " 5   Vintage              105312 non-null  int64 \n",
      " 6   Credit_Product       92790 non-null   object\n",
      " 7   Avg_Account_Balance  105312 non-null  int64 \n",
      " 8   Is_Active            105312 non-null  object\n",
      "dtypes: int64(3), object(6)\n",
      "memory usage: 8.0+ MB\n"
     ]
    }
   ],
   "source": [
    "df_test.info()"
   ]
  },
  {
   "cell_type": "code",
   "execution_count": 29,
   "metadata": {},
   "outputs": [
    {
     "data": {
      "text/plain": [
       "Gender                     0\n",
       "Age                        0\n",
       "Region_Code                0\n",
       "Occupation                 0\n",
       "Channel_Code               0\n",
       "Vintage                    0\n",
       "Credit_Product         12522\n",
       "Avg_Account_Balance        0\n",
       "Is_Active                  0\n",
       "dtype: int64"
      ]
     },
     "execution_count": 29,
     "metadata": {},
     "output_type": "execute_result"
    }
   ],
   "source": [
    "df_test.isna().sum()"
   ]
  },
  {
   "cell_type": "code",
   "execution_count": 30,
   "metadata": {},
   "outputs": [
    {
     "name": "stdout",
     "output_type": "stream",
     "text": [
      "(105312, 9)\n"
     ]
    }
   ],
   "source": [
    "df_test['Credit_Product'].fillna(method='bfill',inplace=True)\n",
    "df_test.isna().sum()\n",
    "print(df_test.shape)"
   ]
  },
  {
   "cell_type": "code",
   "execution_count": 31,
   "metadata": {},
   "outputs": [
    {
     "data": {
      "text/plain": [
       "1"
      ]
     },
     "execution_count": 31,
     "metadata": {},
     "output_type": "execute_result"
    }
   ],
   "source": [
    "df_test.duplicated().sum()"
   ]
  },
  {
   "cell_type": "code",
   "execution_count": 32,
   "metadata": {},
   "outputs": [
    {
     "data": {
      "text/html": [
       "<div>\n",
       "<style scoped>\n",
       "    .dataframe tbody tr th:only-of-type {\n",
       "        vertical-align: middle;\n",
       "    }\n",
       "\n",
       "    .dataframe tbody tr th {\n",
       "        vertical-align: top;\n",
       "    }\n",
       "\n",
       "    .dataframe thead th {\n",
       "        text-align: right;\n",
       "    }\n",
       "</style>\n",
       "<table border=\"1\" class=\"dataframe\">\n",
       "  <thead>\n",
       "    <tr style=\"text-align: right;\">\n",
       "      <th></th>\n",
       "      <th>Gender</th>\n",
       "      <th>Age</th>\n",
       "      <th>Region_Code</th>\n",
       "      <th>Occupation</th>\n",
       "      <th>Channel_Code</th>\n",
       "      <th>Vintage</th>\n",
       "      <th>Credit_Product</th>\n",
       "      <th>Avg_Account_Balance</th>\n",
       "      <th>Is_Active</th>\n",
       "    </tr>\n",
       "    <tr>\n",
       "      <th>ID</th>\n",
       "      <th></th>\n",
       "      <th></th>\n",
       "      <th></th>\n",
       "      <th></th>\n",
       "      <th></th>\n",
       "      <th></th>\n",
       "      <th></th>\n",
       "      <th></th>\n",
       "      <th></th>\n",
       "    </tr>\n",
       "  </thead>\n",
       "  <tbody>\n",
       "    <tr>\n",
       "      <th>VBENBARO</th>\n",
       "      <td>Male</td>\n",
       "      <td>29</td>\n",
       "      <td>RG254</td>\n",
       "      <td>Other</td>\n",
       "      <td>X1</td>\n",
       "      <td>25</td>\n",
       "      <td>Yes</td>\n",
       "      <td>742366</td>\n",
       "      <td>No</td>\n",
       "    </tr>\n",
       "    <tr>\n",
       "      <th>CCMEWNKY</th>\n",
       "      <td>Male</td>\n",
       "      <td>43</td>\n",
       "      <td>RG268</td>\n",
       "      <td>Other</td>\n",
       "      <td>X2</td>\n",
       "      <td>49</td>\n",
       "      <td>No</td>\n",
       "      <td>925537</td>\n",
       "      <td>No</td>\n",
       "    </tr>\n",
       "    <tr>\n",
       "      <th>VK3KGA9M</th>\n",
       "      <td>Male</td>\n",
       "      <td>31</td>\n",
       "      <td>RG270</td>\n",
       "      <td>Salaried</td>\n",
       "      <td>X1</td>\n",
       "      <td>14</td>\n",
       "      <td>No</td>\n",
       "      <td>215949</td>\n",
       "      <td>No</td>\n",
       "    </tr>\n",
       "    <tr>\n",
       "      <th>TT8RPZVC</th>\n",
       "      <td>Male</td>\n",
       "      <td>29</td>\n",
       "      <td>RG272</td>\n",
       "      <td>Other</td>\n",
       "      <td>X1</td>\n",
       "      <td>33</td>\n",
       "      <td>No</td>\n",
       "      <td>868070</td>\n",
       "      <td>No</td>\n",
       "    </tr>\n",
       "    <tr>\n",
       "      <th>SHQZEYTZ</th>\n",
       "      <td>Female</td>\n",
       "      <td>29</td>\n",
       "      <td>RG270</td>\n",
       "      <td>Other</td>\n",
       "      <td>X1</td>\n",
       "      <td>19</td>\n",
       "      <td>No</td>\n",
       "      <td>657087</td>\n",
       "      <td>No</td>\n",
       "    </tr>\n",
       "    <tr>\n",
       "      <th>...</th>\n",
       "      <td>...</td>\n",
       "      <td>...</td>\n",
       "      <td>...</td>\n",
       "      <td>...</td>\n",
       "      <td>...</td>\n",
       "      <td>...</td>\n",
       "      <td>...</td>\n",
       "      <td>...</td>\n",
       "      <td>...</td>\n",
       "    </tr>\n",
       "    <tr>\n",
       "      <th>DBENJOYI</th>\n",
       "      <td>Male</td>\n",
       "      <td>52</td>\n",
       "      <td>RG268</td>\n",
       "      <td>Salaried</td>\n",
       "      <td>X2</td>\n",
       "      <td>86</td>\n",
       "      <td>Yes</td>\n",
       "      <td>4242558</td>\n",
       "      <td>Yes</td>\n",
       "    </tr>\n",
       "    <tr>\n",
       "      <th>CWQ72DWS</th>\n",
       "      <td>Male</td>\n",
       "      <td>55</td>\n",
       "      <td>RG277</td>\n",
       "      <td>Other</td>\n",
       "      <td>X2</td>\n",
       "      <td>86</td>\n",
       "      <td>Yes</td>\n",
       "      <td>1159153</td>\n",
       "      <td>No</td>\n",
       "    </tr>\n",
       "    <tr>\n",
       "      <th>HDESC8GU</th>\n",
       "      <td>Male</td>\n",
       "      <td>35</td>\n",
       "      <td>RG254</td>\n",
       "      <td>Salaried</td>\n",
       "      <td>X4</td>\n",
       "      <td>15</td>\n",
       "      <td>No</td>\n",
       "      <td>1703727</td>\n",
       "      <td>No</td>\n",
       "    </tr>\n",
       "    <tr>\n",
       "      <th>2PW4SFCA</th>\n",
       "      <td>Male</td>\n",
       "      <td>53</td>\n",
       "      <td>RG254</td>\n",
       "      <td>Other</td>\n",
       "      <td>X3</td>\n",
       "      <td>93</td>\n",
       "      <td>No</td>\n",
       "      <td>737178</td>\n",
       "      <td>Yes</td>\n",
       "    </tr>\n",
       "    <tr>\n",
       "      <th>F2NOYPPZ</th>\n",
       "      <td>Male</td>\n",
       "      <td>27</td>\n",
       "      <td>RG256</td>\n",
       "      <td>Salaried</td>\n",
       "      <td>X1</td>\n",
       "      <td>21</td>\n",
       "      <td>No</td>\n",
       "      <td>591565</td>\n",
       "      <td>No</td>\n",
       "    </tr>\n",
       "  </tbody>\n",
       "</table>\n",
       "<p>105311 rows × 9 columns</p>\n",
       "</div>"
      ],
      "text/plain": [
       "          Gender  Age Region_Code Occupation Channel_Code  Vintage  \\\n",
       "ID                                                                   \n",
       "VBENBARO    Male   29       RG254      Other           X1       25   \n",
       "CCMEWNKY    Male   43       RG268      Other           X2       49   \n",
       "VK3KGA9M    Male   31       RG270   Salaried           X1       14   \n",
       "TT8RPZVC    Male   29       RG272      Other           X1       33   \n",
       "SHQZEYTZ  Female   29       RG270      Other           X1       19   \n",
       "...          ...  ...         ...        ...          ...      ...   \n",
       "DBENJOYI    Male   52       RG268   Salaried           X2       86   \n",
       "CWQ72DWS    Male   55       RG277      Other           X2       86   \n",
       "HDESC8GU    Male   35       RG254   Salaried           X4       15   \n",
       "2PW4SFCA    Male   53       RG254      Other           X3       93   \n",
       "F2NOYPPZ    Male   27       RG256   Salaried           X1       21   \n",
       "\n",
       "         Credit_Product  Avg_Account_Balance Is_Active  \n",
       "ID                                                      \n",
       "VBENBARO            Yes               742366        No  \n",
       "CCMEWNKY             No               925537        No  \n",
       "VK3KGA9M             No               215949        No  \n",
       "TT8RPZVC             No               868070        No  \n",
       "SHQZEYTZ             No               657087        No  \n",
       "...                 ...                  ...       ...  \n",
       "DBENJOYI            Yes              4242558       Yes  \n",
       "CWQ72DWS            Yes              1159153        No  \n",
       "HDESC8GU             No              1703727        No  \n",
       "2PW4SFCA             No               737178       Yes  \n",
       "F2NOYPPZ             No               591565        No  \n",
       "\n",
       "[105311 rows x 9 columns]"
      ]
     },
     "execution_count": 32,
     "metadata": {},
     "output_type": "execute_result"
    }
   ],
   "source": [
    "df_test.drop_duplicates()"
   ]
  },
  {
   "cell_type": "code",
   "execution_count": 33,
   "metadata": {},
   "outputs": [],
   "source": [
    "for i in cat_list:\n",
    "    df_test[i] = le.fit_transform(df_test[i])"
   ]
  },
  {
   "cell_type": "code",
   "execution_count": 34,
   "metadata": {},
   "outputs": [],
   "source": [
    "predictions = log.predict(df_test)"
   ]
  },
  {
   "cell_type": "code",
   "execution_count": 35,
   "metadata": {},
   "outputs": [],
   "source": [
    "submission = pd.DataFrame({'ID': df_test.index,\n",
    "                    'Is_Lead': predictions})\n",
    "\n",
    "submission.to_csv(\"submission_log.csv\", index=False)"
   ]
  },
  {
   "cell_type": "code",
   "execution_count": 46,
   "metadata": {},
   "outputs": [
    {
     "data": {
      "text/plain": [
       "array([0.2304947 , 0.56574845, 0.2540544 , ..., 0.73717713, 0.74211156,\n",
       "       0.25470155], dtype=float32)"
      ]
     },
     "execution_count": 46,
     "metadata": {},
     "output_type": "execute_result"
    }
   ],
   "source": [
    "predictions_xgb = xgb_clf.predict_proba(df_test)[:,1]\n",
    "predictions_xgb"
   ]
  },
  {
   "cell_type": "code",
   "execution_count": 47,
   "metadata": {},
   "outputs": [],
   "source": [
    "submission = pd.DataFrame({'ID': df_test.index,\n",
    "                    'Is_Lead': predictions_xgb})\n",
    "\n",
    "submission.to_csv(\"submission_xgb12.csv\", index=False)"
   ]
  },
  {
   "cell_type": "code",
   "execution_count": 38,
   "metadata": {},
   "outputs": [],
   "source": [
    "predictions_rf = rf.predict(df_test)"
   ]
  },
  {
   "cell_type": "code",
   "execution_count": 39,
   "metadata": {},
   "outputs": [],
   "source": [
    "submission = pd.DataFrame({'ID': df_test.index,\n",
    "                    'Is_Lead': predictions_rf})\n",
    "\n",
    "submission.to_csv(\"submission_rf.csv\", index=False)"
   ]
  },
  {
   "cell_type": "code",
   "execution_count": 42,
   "metadata": {},
   "outputs": [
    {
     "name": "stdout",
     "output_type": "stream",
     "text": [
      "Best CV Score 0.7405176623799447\n",
      "Model Parameters {'colsample_bytree': 0.8, 'gamma': 5, 'max_depth': 5, 'min_child_weight': 10, 'subsample': 1.0}\n"
     ]
    }
   ],
   "source": [
    "params = {\n",
    "        'min_child_weight': [1, 5, 10],\n",
    "        'gamma': [0.5, 1, 1.5, 2, 5],\n",
    "        'subsample': [0.6, 0.8, 1.0],\n",
    "        'colsample_bytree': [0.6, 0.8, 1.0],\n",
    "        'max_depth': [3, 4, 5]\n",
    "        }\n",
    "xgb_gs = XGBClassifier()\n",
    "grid = zip([xgb_gs],[params])\n",
    "\n",
    "best_clf = None\n",
    "# perform grid search and select the model with best cv set scores\n",
    "for model_pipeline, param in grid:\n",
    "    temp = GridSearchCV(model_pipeline, param_grid=param, cv=3, n_jobs=1)\n",
    "    temp.fit(xf_train, yf_train)\n",
    "    if best_clf is None:\n",
    "        best_clf = temp\n",
    "    else:\n",
    "        if temp.best_score_ > best_clf.best_score_:\n",
    "            best_clf = temp\n",
    "print (\"Best CV Score\",best_clf.best_score_)\n",
    "print (\"Model Parameters\",best_clf.best_params_)"
   ]
  },
  {
   "cell_type": "code",
   "execution_count": null,
   "metadata": {},
   "outputs": [],
   "source": []
  }
 ],
 "metadata": {
  "kernelspec": {
   "display_name": "Python 3",
   "language": "python",
   "name": "python3"
  },
  "language_info": {
   "codemirror_mode": {
    "name": "ipython",
    "version": 3
   },
   "file_extension": ".py",
   "mimetype": "text/x-python",
   "name": "python",
   "nbconvert_exporter": "python",
   "pygments_lexer": "ipython3",
   "version": "3.8.3"
  }
 },
 "nbformat": 4,
 "nbformat_minor": 4
}
